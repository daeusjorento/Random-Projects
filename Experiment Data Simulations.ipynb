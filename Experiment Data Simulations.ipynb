{
 "cells": [
  {
   "cell_type": "markdown",
   "id": "b38d26ba",
   "metadata": {},
   "source": [
    "# Experiment Data Exploration and Analysis"
   ]
  },
  {
   "cell_type": "markdown",
   "id": "0727f59a",
   "metadata": {},
   "source": [
    "## Simulate Data\n",
    "Modified from a coworker's (Rob Wang) code"
   ]
  },
  {
   "cell_type": "code",
   "execution_count": 1,
   "id": "3097d0ec",
   "metadata": {},
   "outputs": [],
   "source": [
    "import numpy as np\n",
    "import pandas as pd\n",
    "\n",
    "np.random.seed(1234) # so same results throughout below\n",
    "n = 20000\n",
    "\n",
    "# Generate two lists of different conversion rates\n",
    "p1 = 1/20\n",
    "p2 = 1/25\n",
    "group1_conv = list(np.random.binomial(1, p1, n))\n",
    "group2_conv = list(np.random.binomial(1, p2, n))\n",
    "\n",
    "# Generate country values randomly\n",
    "countries = [\"US\",\"CA\",\"MX\"]\n",
    "probs = [0.6,0.25,0.15]\n",
    "country_list = list(np.random.choice(countries, size = 2*n,p=probs))\n",
    "\n",
    "# Generate random dates\n",
    "started = '2024-08-01'\n",
    "ended = '2024-08-31'\n",
    "date_range = pd.date_range(start=started, end=ended)\n",
    "randomized_dates = np.random.choice(date_range, size=2*n)\n",
    "bucket_dates = [pd.Timestamp(date).strftime('%Y-%m-%d') for date in randomized_dates]\n",
    "#set(bucket_dates)\n",
    "\n",
    "# Generate dataframe\n",
    "data = {\n",
    "    'bucket': ['control'] * len(group1_conv) + ['treatment'] * len(group2_conv),\n",
    "    'converted': group1_conv + group2_conv,\n",
    "    'country': country_list,\n",
    "    'bucket_date': bucket_dates\n",
    "}\n",
    "data = pd.DataFrame(data)\n",
    "data = data.sample(frac=1)\n",
    "## Rename index pre-shuffle as unique token\n",
    "data = data.reset_index().rename(columns={'index': 'token'})\n",
    "\n",
    "# Generate revenue column\n",
    "mean = 100\n",
    "std_dev = 50\n",
    "data['revenue'] = np.where(data['converted'] == 1,np.random.normal(loc=mean, scale=std_dev, size=len(data)),0)\n",
    "# round to 2 digts all at once (instead of using a loop to round)\n",
    "data['revenue'] = np.trunc(data['revenue'] * 100) / 100\n",
    "\n",
    "# Randomly triple a subset of the data's revenue \n",
    "num_rows = 5000\n",
    "row_indices = data.sample(n=num_rows).index\n",
    "data.loc[row_indices, 'revenue'] *= 3\n",
    "\n",
    "# Randomly increase treatment group revenue by 500\n",
    "num_rows = 400\n",
    "treatment_df = data[(data['bucket'] == 'treatment') & (data['converted'] == 1)]\n",
    "row_indices = treatment_df.sample(n=num_rows).index\n",
    "data.loc[row_indices, 'revenue'] += 500\n",
    "\n",
    "# Randomly remove some rows\n",
    "num_rows = 500\n",
    "drop_rows = data.sample(n=num_rows).index\n",
    "data = data.drop(drop_rows)"
   ]
  },
  {
   "cell_type": "code",
   "execution_count": 2,
   "id": "7de38d9c",
   "metadata": {},
   "outputs": [
    {
     "name": "stdout",
     "output_type": "stream",
     "text": [
      "(39500, 6)\n"
     ]
    },
    {
     "data": {
      "text/html": [
       "<div>\n",
       "<style scoped>\n",
       "    .dataframe tbody tr th:only-of-type {\n",
       "        vertical-align: middle;\n",
       "    }\n",
       "\n",
       "    .dataframe tbody tr th {\n",
       "        vertical-align: top;\n",
       "    }\n",
       "\n",
       "    .dataframe thead th {\n",
       "        text-align: right;\n",
       "    }\n",
       "</style>\n",
       "<table border=\"1\" class=\"dataframe\">\n",
       "  <thead>\n",
       "    <tr style=\"text-align: right;\">\n",
       "      <th></th>\n",
       "      <th>token</th>\n",
       "      <th>bucket</th>\n",
       "      <th>converted</th>\n",
       "      <th>country</th>\n",
       "      <th>bucket_date</th>\n",
       "      <th>revenue</th>\n",
       "    </tr>\n",
       "  </thead>\n",
       "  <tbody>\n",
       "    <tr>\n",
       "      <th>0</th>\n",
       "      <td>35825</td>\n",
       "      <td>treatment</td>\n",
       "      <td>1</td>\n",
       "      <td>CA</td>\n",
       "      <td>2024-08-11</td>\n",
       "      <td>571.17</td>\n",
       "    </tr>\n",
       "    <tr>\n",
       "      <th>1</th>\n",
       "      <td>36596</td>\n",
       "      <td>treatment</td>\n",
       "      <td>0</td>\n",
       "      <td>CA</td>\n",
       "      <td>2024-08-13</td>\n",
       "      <td>0.00</td>\n",
       "    </tr>\n",
       "    <tr>\n",
       "      <th>2</th>\n",
       "      <td>37942</td>\n",
       "      <td>treatment</td>\n",
       "      <td>0</td>\n",
       "      <td>US</td>\n",
       "      <td>2024-08-02</td>\n",
       "      <td>0.00</td>\n",
       "    </tr>\n",
       "    <tr>\n",
       "      <th>3</th>\n",
       "      <td>12854</td>\n",
       "      <td>control</td>\n",
       "      <td>0</td>\n",
       "      <td>MX</td>\n",
       "      <td>2024-08-10</td>\n",
       "      <td>0.00</td>\n",
       "    </tr>\n",
       "    <tr>\n",
       "      <th>4</th>\n",
       "      <td>26703</td>\n",
       "      <td>treatment</td>\n",
       "      <td>0</td>\n",
       "      <td>MX</td>\n",
       "      <td>2024-08-06</td>\n",
       "      <td>0.00</td>\n",
       "    </tr>\n",
       "  </tbody>\n",
       "</table>\n",
       "</div>"
      ],
      "text/plain": [
       "   token     bucket  converted country bucket_date  revenue\n",
       "0  35825  treatment          1      CA  2024-08-11   571.17\n",
       "1  36596  treatment          0      CA  2024-08-13     0.00\n",
       "2  37942  treatment          0      US  2024-08-02     0.00\n",
       "3  12854    control          0      MX  2024-08-10     0.00\n",
       "4  26703  treatment          0      MX  2024-08-06     0.00"
      ]
     },
     "execution_count": 2,
     "metadata": {},
     "output_type": "execute_result"
    }
   ],
   "source": [
    "## Simulated experiment data\n",
    "print(data.shape)\n",
    "data.head()"
   ]
  },
  {
   "cell_type": "markdown",
   "id": "b7f379f8",
   "metadata": {},
   "source": [
    "## Validation, Cleanup and Experiment Overview"
   ]
  },
  {
   "cell_type": "code",
   "execution_count": 3,
   "id": "e9310f3a",
   "metadata": {},
   "outputs": [
    {
     "name": "stdout",
     "output_type": "stream",
     "text": [
      "<class 'pandas.core.frame.DataFrame'>\n",
      "Int64Index: 39500 entries, 0 to 39999\n",
      "Data columns (total 6 columns):\n",
      " #   Column       Non-Null Count  Dtype  \n",
      "---  ------       --------------  -----  \n",
      " 0   token        39500 non-null  object \n",
      " 1   bucket       39500 non-null  object \n",
      " 2   converted    39500 non-null  int64  \n",
      " 3   country      39500 non-null  object \n",
      " 4   bucket_date  39500 non-null  object \n",
      " 5   revenue      39500 non-null  float64\n",
      "dtypes: float64(1), int64(1), object(4)\n",
      "memory usage: 2.1+ MB\n"
     ]
    }
   ],
   "source": [
    "## shows size, columns, counts (nulls), object types\n",
    "\n",
    "## changing 'token' to a string (from an int) so it doesn't keep showing up for mean,sum, etc\n",
    "data.token = data.token.astype(str)\n",
    "data.info()"
   ]
  },
  {
   "cell_type": "code",
   "execution_count": 4,
   "id": "5659ad4c",
   "metadata": {},
   "outputs": [
    {
     "data": {
      "text/plain": [
       "array([[<AxesSubplot:title={'center':'converted'}>,\n",
       "        <AxesSubplot:title={'center':'revenue'}>]], dtype=object)"
      ]
     },
     "execution_count": 4,
     "metadata": {},
     "output_type": "execute_result"
    },
    {
     "data": {
      "image/png": "[encoded data removed]",
      "text/plain": [
       "<Figure size 1000x300 with 2 Axes>"
      ]
     },
     "metadata": {},
     "output_type": "display_data"
    }
   ],
   "source": [
    "data.hist(figsize =(10,3))"
   ]
  },
  {
   "cell_type": "code",
   "execution_count": 5,
   "id": "20e1b821",
   "metadata": {},
   "outputs": [
    {
     "data": {
      "text/html": [
       "<div>\n",
       "<style scoped>\n",
       "    .dataframe tbody tr th:only-of-type {\n",
       "        vertical-align: middle;\n",
       "    }\n",
       "\n",
       "    .dataframe tbody tr th {\n",
       "        vertical-align: top;\n",
       "    }\n",
       "\n",
       "    .dataframe thead th {\n",
       "        text-align: right;\n",
       "    }\n",
       "</style>\n",
       "<table border=\"1\" class=\"dataframe\">\n",
       "  <thead>\n",
       "    <tr style=\"text-align: right;\">\n",
       "      <th></th>\n",
       "      <th>converted</th>\n",
       "      <th>revenue</th>\n",
       "    </tr>\n",
       "  </thead>\n",
       "  <tbody>\n",
       "    <tr>\n",
       "      <th>count</th>\n",
       "      <td>39500.000000</td>\n",
       "      <td>39500.000000</td>\n",
       "    </tr>\n",
       "    <tr>\n",
       "      <th>mean</th>\n",
       "      <td>0.045570</td>\n",
       "      <td>10.718056</td>\n",
       "    </tr>\n",
       "    <tr>\n",
       "      <th>std</th>\n",
       "      <td>0.208552</td>\n",
       "      <td>69.578088</td>\n",
       "    </tr>\n",
       "    <tr>\n",
       "      <th>min</th>\n",
       "      <td>0.000000</td>\n",
       "      <td>-51.040000</td>\n",
       "    </tr>\n",
       "    <tr>\n",
       "      <th>25%</th>\n",
       "      <td>0.000000</td>\n",
       "      <td>0.000000</td>\n",
       "    </tr>\n",
       "    <tr>\n",
       "      <th>50%</th>\n",
       "      <td>0.000000</td>\n",
       "      <td>0.000000</td>\n",
       "    </tr>\n",
       "    <tr>\n",
       "      <th>75%</th>\n",
       "      <td>0.000000</td>\n",
       "      <td>0.000000</td>\n",
       "    </tr>\n",
       "    <tr>\n",
       "      <th>max</th>\n",
       "      <td>1.000000</td>\n",
       "      <td>1100.150000</td>\n",
       "    </tr>\n",
       "  </tbody>\n",
       "</table>\n",
       "</div>"
      ],
      "text/plain": [
       "          converted       revenue\n",
       "count  39500.000000  39500.000000\n",
       "mean       0.045570     10.718056\n",
       "std        0.208552     69.578088\n",
       "min        0.000000    -51.040000\n",
       "25%        0.000000      0.000000\n",
       "50%        0.000000      0.000000\n",
       "75%        0.000000      0.000000\n",
       "max        1.000000   1100.150000"
      ]
     },
     "execution_count": 5,
     "metadata": {},
     "output_type": "execute_result"
    }
   ],
   "source": [
    "## Looking at mean/median, std, min, max mostly for numeric\n",
    "# We have some negative revenue (exclude? Yeah, will below)\n",
    "data.describe()"
   ]
  },
  {
   "cell_type": "code",
   "execution_count": 6,
   "id": "cbc8546b",
   "metadata": {},
   "outputs": [
    {
     "data": {
      "text/html": [
       "<div>\n",
       "<style scoped>\n",
       "    .dataframe tbody tr th:only-of-type {\n",
       "        vertical-align: middle;\n",
       "    }\n",
       "\n",
       "    .dataframe tbody tr th {\n",
       "        vertical-align: top;\n",
       "    }\n",
       "\n",
       "    .dataframe thead th {\n",
       "        text-align: right;\n",
       "    }\n",
       "</style>\n",
       "<table border=\"1\" class=\"dataframe\">\n",
       "  <thead>\n",
       "    <tr style=\"text-align: right;\">\n",
       "      <th></th>\n",
       "      <th>converted</th>\n",
       "      <th>revenue</th>\n",
       "    </tr>\n",
       "  </thead>\n",
       "  <tbody>\n",
       "    <tr>\n",
       "      <th>count</th>\n",
       "      <td>39466.000000</td>\n",
       "      <td>39466.000000</td>\n",
       "    </tr>\n",
       "    <tr>\n",
       "      <th>mean</th>\n",
       "      <td>0.044747</td>\n",
       "      <td>10.741794</td>\n",
       "    </tr>\n",
       "    <tr>\n",
       "      <th>std</th>\n",
       "      <td>0.206751</td>\n",
       "      <td>69.602383</td>\n",
       "    </tr>\n",
       "    <tr>\n",
       "      <th>min</th>\n",
       "      <td>0.000000</td>\n",
       "      <td>0.000000</td>\n",
       "    </tr>\n",
       "    <tr>\n",
       "      <th>25%</th>\n",
       "      <td>0.000000</td>\n",
       "      <td>0.000000</td>\n",
       "    </tr>\n",
       "    <tr>\n",
       "      <th>50%</th>\n",
       "      <td>0.000000</td>\n",
       "      <td>0.000000</td>\n",
       "    </tr>\n",
       "    <tr>\n",
       "      <th>75%</th>\n",
       "      <td>0.000000</td>\n",
       "      <td>0.000000</td>\n",
       "    </tr>\n",
       "    <tr>\n",
       "      <th>max</th>\n",
       "      <td>1.000000</td>\n",
       "      <td>1100.150000</td>\n",
       "    </tr>\n",
       "  </tbody>\n",
       "</table>\n",
       "</div>"
      ],
      "text/plain": [
       "          converted       revenue\n",
       "count  39466.000000  39466.000000\n",
       "mean       0.044747     10.741794\n",
       "std        0.206751     69.602383\n",
       "min        0.000000      0.000000\n",
       "25%        0.000000      0.000000\n",
       "50%        0.000000      0.000000\n",
       "75%        0.000000      0.000000\n",
       "max        1.000000   1100.150000"
      ]
     },
     "execution_count": 6,
     "metadata": {},
     "output_type": "execute_result"
    }
   ],
   "source": [
    "# len(data[data.revenue < 0]) # 34 instances of 20K, we can remove negatives\n",
    "df = data[data.revenue >= 0]\n",
    "df.describe()"
   ]
  },
  {
   "cell_type": "code",
   "execution_count": 7,
   "id": "e7cc0e23",
   "metadata": {},
   "outputs": [
    {
     "name": "stdout",
     "output_type": "stream",
     "text": [
      "           token  converted  country  bucket_date  revenue\n",
      "bucket                                                    \n",
      "control    19720          2        3           31      951\n",
      "treatment  19746          2        3           31      790\n"
     ]
    },
    {
     "data": {
      "text/html": [
       "<div>\n",
       "<style scoped>\n",
       "    .dataframe tbody tr th:only-of-type {\n",
       "        vertical-align: middle;\n",
       "    }\n",
       "\n",
       "    .dataframe tbody tr th {\n",
       "        vertical-align: top;\n",
       "    }\n",
       "\n",
       "    .dataframe thead th {\n",
       "        text-align: right;\n",
       "    }\n",
       "</style>\n",
       "<table border=\"1\" class=\"dataframe\">\n",
       "  <thead>\n",
       "    <tr style=\"text-align: right;\">\n",
       "      <th></th>\n",
       "      <th>converted</th>\n",
       "      <th>revenue</th>\n",
       "    </tr>\n",
       "    <tr>\n",
       "      <th>bucket</th>\n",
       "      <th></th>\n",
       "      <th></th>\n",
       "    </tr>\n",
       "  </thead>\n",
       "  <tbody>\n",
       "    <tr>\n",
       "      <th>control</th>\n",
       "      <td>0.049189</td>\n",
       "      <td>6.162150</td>\n",
       "    </tr>\n",
       "    <tr>\n",
       "      <th>treatment</th>\n",
       "      <td>0.040312</td>\n",
       "      <td>15.315409</td>\n",
       "    </tr>\n",
       "  </tbody>\n",
       "</table>\n",
       "</div>"
      ],
      "text/plain": [
       "           converted    revenue\n",
       "bucket                         \n",
       "control     0.049189   6.162150\n",
       "treatment   0.040312  15.315409"
      ]
     },
     "execution_count": 7,
     "metadata": {},
     "output_type": "execute_result"
    }
   ],
   "source": [
    "## Experiment overview: counts, conversion rate, avg revenue\n",
    "\n",
    "# unique counts by bucket + just a quick check on uniques for others (ignore unique revenue...)\n",
    "print(df.groupby('bucket').nunique())\n",
    "\n",
    "## revenue looks higher, converted looks lower\n",
    "df.groupby('bucket').mean()"
   ]
  },
  {
   "cell_type": "code",
   "execution_count": 8,
   "id": "b14dea8d",
   "metadata": {},
   "outputs": [
    {
     "name": "stdout",
     "output_type": "stream",
     "text": [
      "bucket_date  bucket   \n",
      "2024-08-01   control      658\n",
      "             treatment    628\n",
      "2024-08-02   control      648\n",
      "             treatment    619\n",
      "2024-08-03   control      643\n",
      "Name: token, dtype: int64\n"
     ]
    },
    {
     "data": {
      "image/png": "[encoded data removed]",
      "text/plain": [
       "<Figure size 1200x600 with 1 Axes>"
      ]
     },
     "metadata": {},
     "output_type": "display_data"
    }
   ],
   "source": [
    "# confirm experiment is random/data is valid\n",
    "exp = df.groupby(['bucket_date','bucket'])['token'].count()\n",
    "print(exp.head())\n",
    "\n",
    "## plot\n",
    "## data for show vs control\n",
    "t = df[df.bucket == 'treatment'].groupby(['bucket_date'])['token'].count()\n",
    "c = df[df.bucket == 'control'].groupby(['bucket_date'])['token'].count()\n",
    "\n",
    "import matplotlib.pyplot as plt\n",
    "\n",
    "plt.figure(figsize=(12, 6))\n",
    "plt.xlabel('Date')\n",
    "plt.ylabel('Token Count')\n",
    "plt.title('Validation: Treatment vs Control group Counts by date')\n",
    "\n",
    "# Format x-axis to prevent labels from being cluttered\n",
    "plt.gca().xaxis.set_major_locator(plt.MaxNLocator(nbins=10))  # Control the number of x-ticks\n",
    "\n",
    "## add series\n",
    "plt.plot(t.index, t.values, label='Treatment', color='blue', linestyle='-', marker='o')\n",
    "plt.plot(c.index, c.values, label='Control', color='red', linestyle='-', marker='o')\n",
    "\n",
    "# include legend\n",
    "plt.legend(loc='best')\n",
    "\n",
    "# ## Quickest/ugliest way: import the matplotlib package and then uses these 3 lines:\n",
    "# plt.plot(t)\n",
    "# plt.plot(c)\n",
    "plt.show()\n",
    "\n",
    "# -> looks pretty random between groups!"
   ]
  },
  {
   "cell_type": "code",
   "execution_count": 9,
   "id": "8a1883b6",
   "metadata": {},
   "outputs": [
    {
     "name": "stdout",
     "output_type": "stream",
     "text": [
      "  country     bucket  token  converted    revenue  conversion  avg_rev_conv  \\\n",
      "0      CA    control   4962        239   30495.67    0.048166    127.596946   \n",
      "1      CA  treatment   4929        194   73122.36    0.039359    376.919381   \n",
      "2      MX    control   3056        151   20127.59    0.049411    133.295298   \n",
      "3      MX  treatment   2880        121   41414.63    0.042014    342.269669   \n",
      "4      US    control  11702        580   70894.33    0.049564    122.231603   \n",
      "5      US  treatment  11937        481  187881.07    0.040295    390.605135   \n",
      "\n",
      "   avg_rev_all  \n",
      "0     6.145842  \n",
      "1    14.835131  \n",
      "2     6.586253  \n",
      "3    14.380080  \n",
      "4     6.058309  \n",
      "5    15.739388  \n"
     ]
    },
    {
     "name": "stderr",
     "output_type": "stream",
     "text": [
      "/tmp/ipykernel_3560/1573685600.py:4: FutureWarning: Indexing with multiple keys (implicitly converted to a tuple of keys) will be deprecated, use a list instead.\n",
      "  exp_conv = df.groupby(['country','bucket'])['converted','revenue'].sum()\n"
     ]
    }
   ],
   "source": [
    "exp_counts = df.groupby(['country','bucket'])['token'].nunique()\n",
    "#print(exp_counts)\n",
    "\n",
    "exp_conv = df.groupby(['country','bucket'])['converted','revenue'].sum()\n",
    "#print(exp_conv)\n",
    "\n",
    "## combine + add conversion rate + \n",
    "joined_df = pd.merge(exp_counts, exp_conv, on=['country', 'bucket'])\n",
    "## conversion rate\n",
    "joined_df['conversion'] = joined_df['converted'] / joined_df['token']\n",
    "## revenue / converted\n",
    "joined_df['avg_rev_conv'] = joined_df['revenue'] / joined_df['converted']\n",
    "## revenue / total\n",
    "joined_df['avg_rev_all'] = joined_df['revenue'] / joined_df['token']\n",
    "overview_df = joined_df.reset_index()\n",
    "\n",
    "## just in case, show all columns\n",
    "pd.set_option('display.max_rows', None)\n",
    "print(overview_df)\n",
    "\n",
    "## Conversion is lower in all 3 countries,  avg revenue is higher in all 3"
   ]
  },
  {
   "cell_type": "code",
   "execution_count": 10,
   "id": "a1a66d9e",
   "metadata": {},
   "outputs": [
    {
     "name": "stdout",
     "output_type": "stream",
     "text": [
      "  country     bucket  sample_size  converted    revenue  conversion  \\\n",
      "0      CA    control         4962        239   30495.67    0.048166   \n",
      "1      CA  treatment         4929        194   73122.36    0.039359   \n",
      "2      MX    control         3056        151   20127.59    0.049411   \n",
      "3      MX  treatment         2880        121   41414.63    0.042014   \n",
      "4      US    control        11702        580   70894.33    0.049564   \n",
      "5      US  treatment        11937        481  187881.07    0.040295   \n",
      "\n",
      "   avg_rev_all  avg_rev_con  \n",
      "0     6.145842     6.145842  \n",
      "1    14.835131    14.835131  \n",
      "2     6.586253     6.586253  \n",
      "3    14.380080    14.380080  \n",
      "4     6.058309     6.058309  \n",
      "5    15.739388    15.739388  \n"
     ]
    }
   ],
   "source": [
    "## Another way to get this summary table using SQL\n",
    "## there are a few different ways to do this (SQL in python)\n",
    "## Colab example:\n",
    "# %pip install pandasql\n",
    "# from pandasql import sqldf\n",
    "import sqlite3\n",
    "conn = sqlite3.connect(':memory:')\n",
    "df.to_sql('data', conn, index=False, if_exists='replace')\n",
    "\n",
    "query = \"\"\"\n",
    "SELECT\n",
    "    country\n",
    "  , bucket\n",
    "  , COUNT(*) AS sample_size\n",
    "  , SUM(converted) AS converted\n",
    "  , SUM(revenue) AS revenue\n",
    "  , CAST(SUM(converted) AS FLOAT)/count(*) AS conversion -- cast to not round conversion to 0 decimals\n",
    "  , AVG(revenue) AS avg_rev_all\n",
    "  , AVG(revenue * converted) AS avg_rev_con\n",
    "FROM data\n",
    "GROUP BY 1,2\n",
    "ORDER BY 1,2\n",
    "\"\"\"\n",
    "\n",
    "result_df = pd.read_sql_query(query, conn)\n",
    "conn.close()\n",
    "print(result_df)"
   ]
  },
  {
   "cell_type": "code",
   "execution_count": 11,
   "id": "3ffb7407",
   "metadata": {},
   "outputs": [
    {
     "name": "stdout",
     "output_type": "stream",
     "text": [
      "bucket    control  treatment\n",
      "country                     \n",
      "CA       0.048166   0.039359\n",
      "MX       0.049411   0.042014\n",
      "US       0.049564   0.040295\n"
     ]
    },
    {
     "data": {
      "image/png": "[encoded data removed]",
      "text/plain": [
       "<Figure size 640x480 with 1 Axes>"
      ]
     },
     "metadata": {},
     "output_type": "display_data"
    }
   ],
   "source": [
    "## Conversion\n",
    "pivot_df = overview_df.pivot(index='country', columns='bucket', values='conversion')\n",
    "print(pivot_df)\n",
    "pivot_df.plot(kind = 'bar')\n",
    "plt.title('Conversion by Bucket, Country')\n",
    "plt.show()"
   ]
  },
  {
   "cell_type": "code",
   "execution_count": 12,
   "id": "979a6874",
   "metadata": {},
   "outputs": [
    {
     "name": "stdout",
     "output_type": "stream",
     "text": [
      "bucket      control   treatment\n",
      "country                        \n",
      "CA       127.596946  376.919381\n",
      "MX       133.295298  342.269669\n",
      "US       122.231603  390.605135\n"
     ]
    },
    {
     "data": {
      "image/png": "[encoded data removed]",
      "text/plain": [
       "<Figure size 640x480 with 1 Axes>"
      ]
     },
     "metadata": {},
     "output_type": "display_data"
    }
   ],
   "source": [
    "## avg_revenue\n",
    "pivot_df = overview_df.pivot(index='country', columns='bucket', values='avg_rev_conv')\n",
    "print(pivot_df)\n",
    "pivot_df.plot(kind = 'bar')\n",
    "plt.title('Avg Revenue for Converted by Bucket, Country')\n",
    "plt.show()"
   ]
  },
  {
   "cell_type": "code",
   "execution_count": 13,
   "id": "c8079796",
   "metadata": {},
   "outputs": [
    {
     "name": "stdout",
     "output_type": "stream",
     "text": [
      "bucket    control  treatment\n",
      "country                     \n",
      "CA       6.145842  14.835131\n",
      "MX       6.586253  14.380080\n",
      "US       6.058309  15.739388\n"
     ]
    },
    {
     "data": {
      "image/png": "[encoded data removed]",
      "text/plain": [
       "<Figure size 640x480 with 1 Axes>"
      ]
     },
     "metadata": {},
     "output_type": "display_data"
    }
   ],
   "source": [
    "## avg_revenue_overall\n",
    "pivot_df = overview_df.pivot(index='country', columns='bucket', values='avg_rev_all')\n",
    "print(pivot_df)\n",
    "pivot_df.plot(kind = 'bar')\n",
    "plt.title('Avg Revenue overall by Bucket, Country')\n",
    "plt.show()"
   ]
  },
  {
   "cell_type": "markdown",
   "id": "d8eaaf79",
   "metadata": {},
   "source": [
    "## Experiment Statistics"
   ]
  },
  {
   "cell_type": "code",
   "execution_count": 14,
   "id": "22d0ec86",
   "metadata": {},
   "outputs": [
    {
     "name": "stdout",
     "output_type": "stream",
     "text": [
      "bucket\n",
      "control      19720\n",
      "treatment    19746\n",
      "Name: token, dtype: int64\n"
     ]
    },
    {
     "data": {
      "text/html": [
       "<div>\n",
       "<style scoped>\n",
       "    .dataframe tbody tr th:only-of-type {\n",
       "        vertical-align: middle;\n",
       "    }\n",
       "\n",
       "    .dataframe tbody tr th {\n",
       "        vertical-align: top;\n",
       "    }\n",
       "\n",
       "    .dataframe thead th {\n",
       "        text-align: right;\n",
       "    }\n",
       "</style>\n",
       "<table border=\"1\" class=\"dataframe\">\n",
       "  <thead>\n",
       "    <tr style=\"text-align: right;\">\n",
       "      <th></th>\n",
       "      <th>converted</th>\n",
       "      <th>revenue</th>\n",
       "    </tr>\n",
       "    <tr>\n",
       "      <th>bucket</th>\n",
       "      <th></th>\n",
       "      <th></th>\n",
       "    </tr>\n",
       "  </thead>\n",
       "  <tbody>\n",
       "    <tr>\n",
       "      <th>control</th>\n",
       "      <td>0.049189</td>\n",
       "      <td>6.162150</td>\n",
       "    </tr>\n",
       "    <tr>\n",
       "      <th>treatment</th>\n",
       "      <td>0.040312</td>\n",
       "      <td>15.315409</td>\n",
       "    </tr>\n",
       "  </tbody>\n",
       "</table>\n",
       "</div>"
      ],
      "text/plain": [
       "           converted    revenue\n",
       "bucket                         \n",
       "control     0.049189   6.162150\n",
       "treatment   0.040312  15.315409"
      ]
     },
     "execution_count": 14,
     "metadata": {},
     "output_type": "execute_result"
    }
   ],
   "source": [
    "## So we have the overview/directional results\n",
    "# Now let's check statistical significence (p-values) and get some confidence intervals\n",
    "\n",
    "## recap\n",
    "print(df.groupby('bucket')['token'].nunique())\n",
    "df.groupby('bucket').mean()"
   ]
  },
  {
   "cell_type": "code",
   "execution_count": 15,
   "id": "d8019766",
   "metadata": {},
   "outputs": [],
   "source": [
    "import scipy.stats as stats"
   ]
  },
  {
   "cell_type": "markdown",
   "id": "c3a2b595",
   "metadata": {},
   "source": [
    "### Chi-Square test\n",
    "Good test for conversion here (i.e. for categorical data)\n",
    "\n",
    "You just need summary stats to run like a formula (ie table of group A vs B and converted vs not)"
   ]
  },
  {
   "cell_type": "code",
   "execution_count": 16,
   "id": "ed766e94",
   "metadata": {},
   "outputs": [
    {
     "name": "stdout",
     "output_type": "stream",
     "text": [
      "summary table\n",
      "converted      0    1\n",
      "bucket               \n",
      "control    18750  970\n",
      "treatment  18950  796\n",
      "\n",
      "control conv: 0.0492\n",
      "treatment conv: 0.0403\n",
      "p-value: 0.000022\n",
      "\n",
      "Shh! (actual control conversion from simulated code): 0.05\n",
      "Shh! (actual treatment conversion from simulated code): 0.04\n"
     ]
    }
   ],
   "source": [
    "## Chi-Square for Conversion\n",
    "sum_table = pd.crosstab(df['bucket'], df['converted'])\n",
    "\n",
    "# Get the counts for control and treatment\n",
    "control_conv = sum_table.loc['control', 1]\n",
    "control_total = sum_table.loc['control'].sum()\n",
    "treatment_conv = sum_table.loc['treatment', 1]\n",
    "treatment_total = sum_table.loc['treatment'].sum()\n",
    "\n",
    "chi2_stat, p_value, dof, expected = stats.chi2_contingency(sum_table)\n",
    "print('summary table')\n",
    "print(sum_table)\n",
    "print() ## just adding a space\n",
    "print(f'control conv: {control_conv/control_total:.4f}')\n",
    "print(f'treatment conv: {treatment_conv/treatment_total:.4f}')\n",
    "#print('treatment conv: ' + str(round(treatment_conv/treatment_total,4))) # old way I would have done this\n",
    "print(f'p-value: {p_value:.6f}')\n",
    "print() ## just adding a space\n",
    "print('Shh! (actual control conversion from simulated code): ' + str(1/20))\n",
    "print('Shh! (actual treatment conversion from simulated code): ' + str(1/25))\n",
    "#print(stats.chi2_contingency(sum_table))\n",
    " \n",
    "# p-value is the odds of seeing this or more extreme of a result given there is no effect (null is no effect)\n",
    "# very stat sig here."
   ]
  },
  {
   "cell_type": "markdown",
   "id": "d307fbe7",
   "metadata": {},
   "source": [
    "### Z-test\n",
    "Should ballpark match chi-square above (at least for 2 sample binomal here comparing means)\n",
    "\n",
    "Need to calculate overall conversion to get binomial standard error, z-test stat"
   ]
  },
  {
   "cell_type": "code",
   "execution_count": 17,
   "id": "4303058b",
   "metadata": {},
   "outputs": [
    {
     "name": "stdout",
     "output_type": "stream",
     "text": [
      "Control conversion rate: 0.0492\n",
      "Treatment conversion rate: 0.0403\n",
      "pvalue: 0.000020\n",
      "\n",
      "difference: 0.00888\n",
      "95% CI for difference: (0.0048, 0.0130)\n"
     ]
    }
   ],
   "source": [
    "## Z-test for conversion\n",
    "# The 4 count variables here are from chi-square code above\n",
    "p1 = control_conv / control_total\n",
    "p2 = treatment_conv / treatment_total\n",
    "# overall conversion\n",
    "p = (control_conv + treatment_conv) / (control_total + treatment_total)\n",
    "\n",
    "se = np.sqrt(p * (1 - p) * (1 / control_total + 1 / treatment_total)) # Binomial Standard error\n",
    "z = (p1 - p2) / se # Z-test statistic\n",
    "p_value = 2 * (1 - stats.norm.cdf(abs(z))) # p-value from the Z-test statistic (two-tailed)\n",
    "\n",
    "print(f'Control conversion rate: {p1:.4f}')\n",
    "print(f'Treatment conversion rate: {p2:.4f}')\n",
    "print(f'pvalue: {p_value:.6f}') # P-value roughly matches above\n",
    "print()\n",
    "\n",
    "## Confidence Intervals (95%)\n",
    "z_critical = stats.norm.ppf(0.975)  # For a 95% confidence interval (ie 0.025 on each side)\n",
    "margin_of_error = z_critical * se\n",
    "ci_lower = (p1 - p2) - margin_of_error\n",
    "ci_upper = (p1 - p2) + margin_of_error\n",
    "print('difference: ' + str(round(p1 - p2,5)))\n",
    "print(f'95% CI for difference: ({ci_lower:.4f}, {ci_upper:.4f})')"
   ]
  },
  {
   "cell_type": "markdown",
   "id": "9582993e",
   "metadata": {},
   "source": [
    "### T-Test\n",
    "For continuous data (i.e. revenue here)\n",
    "\n",
    "Z-test above we know the standard deviations, here we do not/it needs to be estimated."
   ]
  },
  {
   "cell_type": "code",
   "execution_count": 18,
   "id": "bd3486dc",
   "metadata": {},
   "outputs": [
    {
     "name": "stdout",
     "output_type": "stream",
     "text": [
      "treatment: 15.3154\n",
      "control: 6.1621\n",
      "4.5811287162337286e-39\n"
     ]
    }
   ],
   "source": [
    "from scipy.stats import ttest_ind\n",
    "\n",
    "## T-test: (Counting 0s, overall revenue)\n",
    "test = df[df.bucket == 'treatment'].revenue\n",
    "cont = df[df.bucket == 'control'].revenue\n",
    "\n",
    "ttest, p_value = ttest_ind(test,cont,equal_var=False,nan_policy='omit')\n",
    "print(f'treatment: {test.mean():.4f}')\n",
    "print(f'control: {cont.mean():.4f}')\n",
    "#print(f'p_value: {p_value:.10f}') # It's so stat sig you need 40 digits lol\n",
    "print(p_value)\n",
    "## Very stat sig, treatment is much higher (known in part from simulations/random increases)"
   ]
  },
  {
   "cell_type": "markdown",
   "id": "8f86d403",
   "metadata": {},
   "source": [
    "#### Outliers\n",
    "\n",
    "Let's check some outliers"
   ]
  },
  {
   "cell_type": "code",
   "execution_count": 19,
   "id": "1734f9f8",
   "metadata": {},
   "outputs": [
    {
     "name": "stdout",
     "output_type": "stream",
     "text": [
      "largest treatment revenue customers:\n",
      "6631     1100.15\n",
      "13282    1081.76\n",
      "7518     1078.10\n",
      "27615    1019.60\n",
      "14888    1012.55\n",
      "Name: revenue, dtype: float64\n",
      "\n",
      "largest control revenue customers:\n",
      "20685    865.29\n",
      "3631     642.75\n",
      "17990    567.69\n",
      "6094     556.47\n",
      "26017    552.45\n",
      "Name: revenue, dtype: float64\n"
     ]
    }
   ],
   "source": [
    "print('largest treatment revenue customers:')\n",
    "print(test.sort_values(ascending=False).head(5))\n",
    "print()\n",
    "print('largest control revenue customers:')\n",
    "print(cont.sort_values(ascending=False).head(5))\n",
    "\n",
    "## No crazy outliers (somewhat known by simulatons but nice to check)\n",
    "## Looks like a clear higher value for treatment"
   ]
  },
  {
   "cell_type": "markdown",
   "id": "956a216e",
   "metadata": {},
   "source": [
    "#### Confidence Intervals (revenue)"
   ]
  },
  {
   "cell_type": "code",
   "execution_count": 20,
   "id": "a217f1c0",
   "metadata": {},
   "outputs": [
    {
     "name": "stdout",
     "output_type": "stream",
     "text": [
      "Difference in Means: 9.1533\n",
      "95% CI for the difference: (7.7834, 10.5232)\n"
     ]
    }
   ],
   "source": [
    "from scipy.stats import ttest_ind, t\n",
    "\n",
    "# Taking test,cont variables from above\n",
    "mean_treatment = test.mean()\n",
    "mean_control = cont.mean()\n",
    "\n",
    "# Calculate standard errors\n",
    "se_treatment = np.std(test, ddof=1) / np.sqrt(len(test))\n",
    "se_control = np.std(cont, ddof=1) / np.sqrt(len(cont))\n",
    "\n",
    "# # Degrees of freedom for the t-distribution\n",
    "# degf_combined = min(len(test) - 1, len(cont) - 1)\n",
    "\n",
    "# # Calculate critical value for 95% confidence interval\n",
    "# t_critical = t.ppf(0.975, degf_combined)\n",
    "\n",
    "# # Calculate confidence intervals\n",
    "# ci_treatment = (mean_treatment - t_critical * se_treatment, mean_treatment + t_critical * se_treatment)\n",
    "# ci_control = (mean_control - t_critical * se_control, mean_control + t_critical * se_control)\n",
    "\n",
    "# print(f\"Treatment 95% CI: {ci_treatment}\")\n",
    "# print(f\"Control 95% CI: {ci_control}\")\n",
    "\n",
    "# Calculate the standard error of the difference between means\n",
    "se_diff = np.sqrt(se_treatment**2 + se_control**2)\n",
    "\n",
    "# Degrees of freedom for the t-distribution (using Welch's approximation)\n",
    "degf_treatment = len(test) - 1\n",
    "degf_control = len(cont) - 1\n",
    "degf_diff = (se_treatment**2 + se_control**2)**2 / ((se_treatment**2 / degf_treatment) + (se_control**2 / degf_control))\n",
    "\n",
    "# Calculate the critical value for the 95% confidence interval\n",
    "t_critical = t.ppf(0.975, degf_diff)\n",
    "\n",
    "# Calculate the confidence interval for the difference in means\n",
    "mean_diff = mean_treatment - mean_control\n",
    "ci_diff = (mean_diff - t_critical * se_diff, mean_diff + t_critical * se_diff)\n",
    "\n",
    "print(f\"Difference in Means: {mean_diff:.4f}\")\n",
    "#print(f\"95% CI for the difference: {ci_diff}\")\n",
    "print(f\"95% CI for the difference: ({ci_diff[0]:.4f}, {ci_diff[1]:.4f})\")"
   ]
  },
  {
   "cell_type": "markdown",
   "id": "ba333b05",
   "metadata": {},
   "source": [
    "### T-test (Ratio Metrics) \n",
    "\n",
    "Looking at revenue for converted customers. This is a ratio metric problem because there are two metrics (ratio):\n",
    "\n",
    "1. Conversion (binomial 0/1)\n",
    "2. Revenue (continuous)"
   ]
  },
  {
   "cell_type": "markdown",
   "id": "1371ee57",
   "metadata": {},
   "source": [
    "##### Example"
   ]
  },
  {
   "cell_type": "code",
   "execution_count": 21,
   "id": "45005fd7",
   "metadata": {},
   "outputs": [
    {
     "data": {
      "text/html": [
       "<div>\n",
       "<style scoped>\n",
       "    .dataframe tbody tr th:only-of-type {\n",
       "        vertical-align: middle;\n",
       "    }\n",
       "\n",
       "    .dataframe tbody tr th {\n",
       "        vertical-align: top;\n",
       "    }\n",
       "\n",
       "    .dataframe thead th {\n",
       "        text-align: right;\n",
       "    }\n",
       "</style>\n",
       "<table border=\"1\" class=\"dataframe\">\n",
       "  <thead>\n",
       "    <tr style=\"text-align: right;\">\n",
       "      <th></th>\n",
       "      <th>mean_control</th>\n",
       "      <th>mean_experiment</th>\n",
       "      <th>var_control</th>\n",
       "      <th>var_experiment</th>\n",
       "      <th>difference</th>\n",
       "      <th>lower_bound</th>\n",
       "      <th>upper_bound</th>\n",
       "      <th>p-value</th>\n",
       "    </tr>\n",
       "  </thead>\n",
       "  <tbody>\n",
       "    <tr>\n",
       "      <th>0</th>\n",
       "      <td>0.328175</td>\n",
       "      <td>0.34115</td>\n",
       "      <td>0.000007</td>\n",
       "      <td>0.000008</td>\n",
       "      <td>0.012975</td>\n",
       "      <td>0.005245</td>\n",
       "      <td>0.020704</td>\n",
       "      <td>0.001002</td>\n",
       "    </tr>\n",
       "  </tbody>\n",
       "</table>\n",
       "</div>"
      ],
      "text/plain": [
       "   mean_control  mean_experiment  var_control  var_experiment  difference  \\\n",
       "0      0.328175          0.34115     0.000007        0.000008    0.012975   \n",
       "\n",
       "   lower_bound  upper_bound   p-value  \n",
       "0     0.005245     0.020704  0.001002  "
      ]
     },
     "execution_count": 21,
     "metadata": {},
     "output_type": "execute_result"
    }
   ],
   "source": [
    "## Really good example of 'delta method' for ratios\n",
    "## Using here for the var_ratio and t-test calcs\n",
    "\n",
    "## https://medium.com/@ahmadnuraziz3/applying-delta-method-for-a-b-tests-analysis-8b1d13411c22\n",
    "import pandas as pd\n",
    "import numpy as np\n",
    "from random import randint\n",
    "from scipy import stats \n",
    "\n",
    "#dummy variables\n",
    "click_control = [randint(0,20) for i in range(10000)]\n",
    "view_control = [randint(1,60) for i in range(10000)]\n",
    "\n",
    "click_treatment = [randint(0,21) for i in range(10000)]\n",
    "view_treatment = [randint(1,60) for i in range(10000)]\n",
    "\n",
    "control = pd.DataFrame({'click':click_control,'view':view_control})\n",
    "treatment = pd.DataFrame({'click':click_treatment,'view':view_treatment})\n",
    "\n",
    "#variance estimation of metrics ratio\n",
    "def var_ratio(x,y): #x/y\n",
    "    mean_x = np.mean(x)\n",
    "    mean_y = np.mean(y)\n",
    "    var_x = np.var(x,ddof=1)\n",
    "    var_y = np.var(y,ddof=1)\n",
    "    cov_xy = np.cov(x,y,ddof=1)[0][1]\n",
    "    result = (var_x/mean_x**2 + var_y/mean_y**2 - 2*cov_xy/(mean_x*mean_y))*(mean_x*mean_x)/(mean_y*mean_y*len(x))\n",
    "    return result\n",
    "    \n",
    "#ttest calculation \n",
    "def ttest(mean_control,mean_treatment,var_control,var_treatment):\n",
    "    diff = mean_treatment - mean_control\n",
    "    var = var_control+var_treatment\n",
    "    stde = 1.96*np.sqrt(var)\n",
    "    lower = diff - stde \n",
    "    upper = diff + stde\n",
    "    z = diff/np.sqrt(var)\n",
    "    p_val = stats.norm.sf(abs(z))*2\n",
    "\n",
    "    result = {'mean_control':mean_control,\n",
    "             'mean_experiment':mean_treatment,\n",
    "             'var_control':var_control,\n",
    "             'var_experiment':var_treatment,\n",
    "             'difference':diff,\n",
    "             'lower_bound':lower,\n",
    "             'upper_bound':upper,\n",
    "             'p-value':p_val}\n",
    "    return pd.DataFrame(result,index=[0])\n",
    "\n",
    "var_control = var_ratio(control['click'],control['view'])\n",
    "var_treatment = var_ratio(treatment['click'],treatment['view'])\n",
    "mean_control = control['click'].sum()/control['view'].sum()\n",
    "mean_treatment = treatment['click'].sum()/treatment['view'].sum()\n",
    "\n",
    "ttest(mean_control,mean_treatment,var_control,var_treatment)"
   ]
  },
  {
   "cell_type": "code",
   "execution_count": 22,
   "id": "c5596928",
   "metadata": {},
   "outputs": [],
   "source": [
    "treatment = df[df.bucket == 'treatment'][['converted','revenue']]\n",
    "#treatment.head()\n",
    "control = df[df.bucket == 'control'][['converted','revenue']]\n",
    "#control.head()"
   ]
  },
  {
   "cell_type": "code",
   "execution_count": 23,
   "id": "a3d8ead9",
   "metadata": {},
   "outputs": [
    {
     "data": {
      "text/html": [
       "<div>\n",
       "<style scoped>\n",
       "    .dataframe tbody tr th:only-of-type {\n",
       "        vertical-align: middle;\n",
       "    }\n",
       "\n",
       "    .dataframe tbody tr th {\n",
       "        vertical-align: top;\n",
       "    }\n",
       "\n",
       "    .dataframe thead th {\n",
       "        text-align: right;\n",
       "    }\n",
       "</style>\n",
       "<table border=\"1\" class=\"dataframe\">\n",
       "  <thead>\n",
       "    <tr style=\"text-align: right;\">\n",
       "      <th></th>\n",
       "      <th>mean_control</th>\n",
       "      <th>mean_experiment</th>\n",
       "      <th>var_control</th>\n",
       "      <th>var_experiment</th>\n",
       "      <th>difference</th>\n",
       "      <th>lower_bound</th>\n",
       "      <th>upper_bound</th>\n",
       "      <th>p-value</th>\n",
       "    </tr>\n",
       "  </thead>\n",
       "  <tbody>\n",
       "    <tr>\n",
       "      <th>0</th>\n",
       "      <td>125.275866</td>\n",
       "      <td>379.922186</td>\n",
       "      <td>8.584751</td>\n",
       "      <td>90.826423</td>\n",
       "      <td>254.64632</td>\n",
       "      <td>235.10411</td>\n",
       "      <td>274.18853</td>\n",
       "      <td>7.103059e-144</td>\n",
       "    </tr>\n",
       "  </tbody>\n",
       "</table>\n",
       "</div>"
      ],
      "text/plain": [
       "   mean_control  mean_experiment  var_control  var_experiment  difference  \\\n",
       "0    125.275866       379.922186     8.584751       90.826423   254.64632   \n",
       "\n",
       "   lower_bound  upper_bound        p-value  \n",
       "0    235.10411    274.18853  7.103059e-144  "
      ]
     },
     "execution_count": 23,
     "metadata": {},
     "output_type": "execute_result"
    }
   ],
   "source": [
    "var_control = var_ratio(control['revenue'],control['converted'])\n",
    "var_treatment = var_ratio(treatment['revenue'],treatment['converted'])\n",
    "mean_control = control['revenue'].sum()/control['converted'].sum()\n",
    "mean_treatment = treatment['revenue'].sum()/treatment['converted'].sum()\n",
    "\n",
    "ttest(mean_control,mean_treatment,var_control,var_treatment)\n",
    "## Very, very, very stat sig.\n",
    "## Partially this is based on the simulation adjustments we did. \n",
    "## Esp: Randomly increase treatment group revenue by 500"
   ]
  },
  {
   "cell_type": "markdown",
   "id": "857ae971",
   "metadata": {},
   "source": [
    "### Country Breakout"
   ]
  },
  {
   "cell_type": "code",
   "execution_count": 24,
   "id": "0b0ce98a",
   "metadata": {},
   "outputs": [
    {
     "data": {
      "text/html": [
       "<div>\n",
       "<style scoped>\n",
       "    .dataframe tbody tr th:only-of-type {\n",
       "        vertical-align: middle;\n",
       "    }\n",
       "\n",
       "    .dataframe tbody tr th {\n",
       "        vertical-align: top;\n",
       "    }\n",
       "\n",
       "    .dataframe thead th {\n",
       "        text-align: right;\n",
       "    }\n",
       "</style>\n",
       "<table border=\"1\" class=\"dataframe\">\n",
       "  <thead>\n",
       "    <tr style=\"text-align: right;\">\n",
       "      <th></th>\n",
       "      <th>country</th>\n",
       "      <th>bucket</th>\n",
       "      <th>token</th>\n",
       "      <th>converted</th>\n",
       "      <th>revenue</th>\n",
       "      <th>conversion</th>\n",
       "      <th>avg_rev_conv</th>\n",
       "      <th>avg_rev_all</th>\n",
       "    </tr>\n",
       "  </thead>\n",
       "  <tbody>\n",
       "    <tr>\n",
       "      <th>0</th>\n",
       "      <td>CA</td>\n",
       "      <td>control</td>\n",
       "      <td>4962</td>\n",
       "      <td>239</td>\n",
       "      <td>30495.67</td>\n",
       "      <td>0.048166</td>\n",
       "      <td>127.596946</td>\n",
       "      <td>6.145842</td>\n",
       "    </tr>\n",
       "    <tr>\n",
       "      <th>1</th>\n",
       "      <td>CA</td>\n",
       "      <td>treatment</td>\n",
       "      <td>4929</td>\n",
       "      <td>194</td>\n",
       "      <td>73122.36</td>\n",
       "      <td>0.039359</td>\n",
       "      <td>376.919381</td>\n",
       "      <td>14.835131</td>\n",
       "    </tr>\n",
       "    <tr>\n",
       "      <th>2</th>\n",
       "      <td>MX</td>\n",
       "      <td>control</td>\n",
       "      <td>3056</td>\n",
       "      <td>151</td>\n",
       "      <td>20127.59</td>\n",
       "      <td>0.049411</td>\n",
       "      <td>133.295298</td>\n",
       "      <td>6.586253</td>\n",
       "    </tr>\n",
       "    <tr>\n",
       "      <th>3</th>\n",
       "      <td>MX</td>\n",
       "      <td>treatment</td>\n",
       "      <td>2880</td>\n",
       "      <td>121</td>\n",
       "      <td>41414.63</td>\n",
       "      <td>0.042014</td>\n",
       "      <td>342.269669</td>\n",
       "      <td>14.380080</td>\n",
       "    </tr>\n",
       "    <tr>\n",
       "      <th>4</th>\n",
       "      <td>US</td>\n",
       "      <td>control</td>\n",
       "      <td>11702</td>\n",
       "      <td>580</td>\n",
       "      <td>70894.33</td>\n",
       "      <td>0.049564</td>\n",
       "      <td>122.231603</td>\n",
       "      <td>6.058309</td>\n",
       "    </tr>\n",
       "    <tr>\n",
       "      <th>5</th>\n",
       "      <td>US</td>\n",
       "      <td>treatment</td>\n",
       "      <td>11937</td>\n",
       "      <td>481</td>\n",
       "      <td>187881.07</td>\n",
       "      <td>0.040295</td>\n",
       "      <td>390.605135</td>\n",
       "      <td>15.739388</td>\n",
       "    </tr>\n",
       "  </tbody>\n",
       "</table>\n",
       "</div>"
      ],
      "text/plain": [
       "  country     bucket  token  converted    revenue  conversion  avg_rev_conv  \\\n",
       "0      CA    control   4962        239   30495.67    0.048166    127.596946   \n",
       "1      CA  treatment   4929        194   73122.36    0.039359    376.919381   \n",
       "2      MX    control   3056        151   20127.59    0.049411    133.295298   \n",
       "3      MX  treatment   2880        121   41414.63    0.042014    342.269669   \n",
       "4      US    control  11702        580   70894.33    0.049564    122.231603   \n",
       "5      US  treatment  11937        481  187881.07    0.040295    390.605135   \n",
       "\n",
       "   avg_rev_all  \n",
       "0     6.145842  \n",
       "1    14.835131  \n",
       "2     6.586253  \n",
       "3    14.380080  \n",
       "4     6.058309  \n",
       "5    15.739388  "
      ]
     },
     "execution_count": 24,
     "metadata": {},
     "output_type": "execute_result"
    }
   ],
   "source": [
    "## Here we'll have to make a multiple hypothesis adjustment\n",
    "## Because for example obviously looking at 20+ p-values or splits, we'll likely see on \n",
    "## have p-value <0.05 just by random chance alone.\n",
    "overview_df"
   ]
  },
  {
   "cell_type": "code",
   "execution_count": 25,
   "id": "ef145e42",
   "metadata": {},
   "outputs": [
    {
     "name": "stdout",
     "output_type": "stream",
     "text": [
      "{'CA': 0.0364939421775667, 'US': 0.0006496011195158105, 'MX': 0.1935723535925996}\n"
     ]
    }
   ],
   "source": [
    "country_list = df.country.unique()\n",
    "unadj_pvalues = {}\n",
    "for xx in country_list:\n",
    "    cdata = df[df.country == xx][['bucket','converted']]\n",
    "    sum_table = pd.crosstab(cdata['bucket'], cdata['converted'])\n",
    "    \n",
    "    # Get the counts for control and treatment\n",
    "    control_conv = sum_table.loc['control', 1]\n",
    "    control_total = sum_table.loc['control'].sum()\n",
    "    treatment_conv = sum_table.loc['treatment', 1]\n",
    "    treatment_total = sum_table.loc['treatment'].sum()\n",
    "    chi2_stat, p_value, dof, expected = stats.chi2_contingency(sum_table)\n",
    "    unadj_pvalues[xx] = p_value\n",
    "\n",
    "print(unadj_pvalues)"
   ]
  },
  {
   "cell_type": "code",
   "execution_count": 26,
   "id": "a2a4e4cb",
   "metadata": {},
   "outputs": [
    {
     "data": {
      "text/html": [
       "<div>\n",
       "<style scoped>\n",
       "    .dataframe tbody tr th:only-of-type {\n",
       "        vertical-align: middle;\n",
       "    }\n",
       "\n",
       "    .dataframe tbody tr th {\n",
       "        vertical-align: top;\n",
       "    }\n",
       "\n",
       "    .dataframe thead th {\n",
       "        text-align: right;\n",
       "    }\n",
       "</style>\n",
       "<table border=\"1\" class=\"dataframe\">\n",
       "  <thead>\n",
       "    <tr style=\"text-align: right;\">\n",
       "      <th></th>\n",
       "      <th>country</th>\n",
       "      <th>conv_unadj_pvalue</th>\n",
       "    </tr>\n",
       "  </thead>\n",
       "  <tbody>\n",
       "    <tr>\n",
       "      <th>0</th>\n",
       "      <td>CA</td>\n",
       "      <td>0.036494</td>\n",
       "    </tr>\n",
       "    <tr>\n",
       "      <th>1</th>\n",
       "      <td>US</td>\n",
       "      <td>0.000650</td>\n",
       "    </tr>\n",
       "    <tr>\n",
       "      <th>2</th>\n",
       "      <td>MX</td>\n",
       "      <td>0.193572</td>\n",
       "    </tr>\n",
       "  </tbody>\n",
       "</table>\n",
       "</div>"
      ],
      "text/plain": [
       "  country  conv_unadj_pvalue\n",
       "0      CA           0.036494\n",
       "1      US           0.000650\n",
       "2      MX           0.193572"
      ]
     },
     "execution_count": 26,
     "metadata": {},
     "output_type": "execute_result"
    }
   ],
   "source": [
    "data_list = list(unadj_pvalues.items())\n",
    "df_p = pd.DataFrame(data_list, columns=['country', 'conv_unadj_pvalue'])\n",
    "df_p"
   ]
  },
  {
   "cell_type": "code",
   "execution_count": 27,
   "id": "d053b622",
   "metadata": {},
   "outputs": [
    {
     "data": {
      "text/html": [
       "<div>\n",
       "<style scoped>\n",
       "    .dataframe tbody tr th:only-of-type {\n",
       "        vertical-align: middle;\n",
       "    }\n",
       "\n",
       "    .dataframe tbody tr th {\n",
       "        vertical-align: top;\n",
       "    }\n",
       "\n",
       "    .dataframe thead th {\n",
       "        text-align: right;\n",
       "    }\n",
       "</style>\n",
       "<table border=\"1\" class=\"dataframe\">\n",
       "  <thead>\n",
       "    <tr style=\"text-align: right;\">\n",
       "      <th></th>\n",
       "      <th>country</th>\n",
       "      <th>conv_unadj_pvalue</th>\n",
       "      <th>bonferonni</th>\n",
       "    </tr>\n",
       "  </thead>\n",
       "  <tbody>\n",
       "    <tr>\n",
       "      <th>0</th>\n",
       "      <td>CA</td>\n",
       "      <td>0.036494</td>\n",
       "      <td>0.109482</td>\n",
       "    </tr>\n",
       "    <tr>\n",
       "      <th>1</th>\n",
       "      <td>US</td>\n",
       "      <td>0.000650</td>\n",
       "      <td>0.001949</td>\n",
       "    </tr>\n",
       "    <tr>\n",
       "      <th>2</th>\n",
       "      <td>MX</td>\n",
       "      <td>0.193572</td>\n",
       "      <td>0.580717</td>\n",
       "    </tr>\n",
       "  </tbody>\n",
       "</table>\n",
       "</div>"
      ],
      "text/plain": [
       "  country  conv_unadj_pvalue  bonferonni\n",
       "0      CA           0.036494    0.109482\n",
       "1      US           0.000650    0.001949\n",
       "2      MX           0.193572    0.580717"
      ]
     },
     "execution_count": 27,
     "metadata": {},
     "output_type": "execute_result"
    }
   ],
   "source": [
    "## https://daeusxyz.wordpress.com/2024/02/28/frequently-used-statistics-in-product-experiments/\n",
    "# The most commonly used method is the Bonferroni Correction,\n",
    "# where you take the p-values and divide by the number of hypotheses,\n",
    "\n",
    "df_p['bonferonni'] = df_p.conv_unadj_pvalue*3\n",
    "df_p\n",
    "\n",
    "# Bonferroni is a bit harsh, so another approach is Holms,\n",
    "# Which involves sorting p-values smallest ot largest and use a moving threshold\n",
    "# by dividing 0.05 by the number of hypotheses minus the position+1"
   ]
  },
  {
   "cell_type": "code",
   "execution_count": 157,
   "id": "cc864dbc",
   "metadata": {},
   "outputs": [],
   "source": [
    "## Other Things I might add in the future\n",
    "\n",
    "## Highly Skewed Revenue statistics?\n",
    "## Mann Whitney U? https://en.wikipedia.org/wiki/Wilcoxon_signed-rank_test\n",
    "## Bootstrapping? https://online.stat.psu.edu/stat500/lesson/11/11.2/11.2.1\n",
    "## Non parametric?"
   ]
  },
  {
   "cell_type": "code",
   "execution_count": null,
   "id": "42f02a6a",
   "metadata": {},
   "outputs": [],
   "source": []
  }
 ],
 "metadata": {
  "kernelspec": {
   "display_name": "Python 3 (ipykernel)",
   "language": "python",
   "name": "python3"
  },
  "language_info": {
   "codemirror_mode": {
    "name": "ipython",
    "version": 3
   },
   "file_extension": ".py",
   "mimetype": "text/x-python",
   "name": "python",
   "nbconvert_exporter": "python",
   "pygments_lexer": "ipython3",
   "version": "3.9.16"
  }
 },
 "nbformat": 4,
 "nbformat_minor": 5
}
